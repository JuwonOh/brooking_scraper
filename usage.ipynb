{
 "cells": [
  {
   "cell_type": "code",
   "execution_count": 1,
   "metadata": {},
   "outputs": [],
   "source": [
    "import time\n",
    "import brookings_scraper"
   ]
  },
  {
   "cell_type": "code",
   "execution_count": 2,
   "metadata": {
    "scrolled": true
   },
   "outputs": [
    {
     "name": "stdout",
     "output_type": "stream",
     "text": [
      "45 testimony_urls for all news\n",
      "45 blog_urls for all blog\n",
      "45 bpea_urls for all news\n",
      "41 reserch_urls for all news\n"
     ]
    }
   ],
   "source": [
    "from brookings_scraper import get_reserch_urls\n",
    "from brookings_scraper import get_bpea_urls\n",
    "from brookings_scraper import get_blog_urls\n",
    "from brookings_scraper import get_testimony_urls\n",
    "\n",
    "tesimony_urls = get_testimony_urls(begin_page=0, end_page=2, verbose=True)\n",
    "print('%d testimony_urls for all news' % len(tesimony_urls))\n",
    "blog_urls = get_blog_urls(begin_page=0, end_page=2, verbose=True)\n",
    "print('%d blog_urls for all blog' % len(blog_urls))\n",
    "bpea_urls = get_bpea_urls(begin_page=0, end_page=2, verbose=True)\n",
    "print('%d bpea_urls for all news' % len(bpea_urls))\n",
    "research_urls = get_reserch_urls(begin_page=0, end_page=2, verbose=True)\n",
    "print('%d reserch_urls for all news' % len(research_urls))"
   ]
  },
  {
   "cell_type": "code",
   "execution_count": 3,
   "metadata": {},
   "outputs": [
    {
     "name": "stdout",
     "output_type": "stream",
     "text": [
      "url : https://www.brookings.edu/research/fact-based-policy-how-do-state-and-local-governments-accomplish-i ..\n",
      "author : Justine Hastings ..\n",
      "title : Fact-based policy: How do state and local governments accomplish it? ..\n",
      "date : Thursday, January 31, 2019 ..\n",
      "content_url : https://www.brookings.edu/wp-content/uploads/2019/01/Hastings_PP_web_20190128.pdf ..\n",
      "content : \n",
      "The Problem\n",
      "Fact-based policy is essential to making government more effective and more efficient,  ..\n",
      "\n",
      "\n",
      "url : https://www.brookings.edu/research/how-artificial-intelligence-affects-financial-consumers/ ..\n",
      "author : Makada Henry-Nickie ..\n",
      "title : How artificial intelligence affects financial consumers ..\n",
      "date : Thursday, January 31, 2019 ..\n",
      "content_url : https://www.brookings.edu/wp-content/uploads/2017/11/credit-cards.jpg ..\n",
      "content : \n",
      "\n",
      "Author\n",
      "\n",
      "\n",
      "\n",
      "\n",
      "\n",
      "\n",
      "Makada Henry-Nickie\n",
      "David M. Rubenstein Fellow - Governance Studies, Race, Prosperity ..\n",
      "\n",
      "\n",
      "url : https://www.brookings.edu/research/removing-barriers-to-accessing-high-productivity-places/ ..\n",
      "author : Daniel Shoag ..\n",
      "title : Removing barriers to accessing high-productivity places ..\n",
      "date : Thursday, January 31, 2019 ..\n",
      "content_url : https://www.brookings.edu/wp-content/uploads/2019/01/Shoag_PP_web_20190128.pdf ..\n",
      "content : \n",
      "The Problem\n",
      "Historically, Americans have moved to the parts of the country that offered the highest ..\n",
      "\n",
      "\n",
      "url : https://www.brookings.edu/blog/order-from-chaos/2019/01/28/venezuelans-must-lead-in-building-an-off- ..\n",
      "title : Venezuelans must lead in building an off-ramp for Maduro ..\n",
      "date : Monday, January 28, 2019 ..\n",
      "author : Dany Bahar ..\n",
      "content : \n",
      "The political crisis in Venezuela has reached a tipping point that may lead to a peaceful return to ..\n",
      "\n",
      "\n",
      "url : https://www.brookings.edu/blog/education-plus-development/2019/02/06/screen-time-for-children-good-b ..\n",
      "title : Screen time for children: Good, bad, or it depends? ..\n",
      "date : Wednesday, February 6, 2019 ..\n",
      "author : Kathy Hirsh-Pasek ..\n",
      "content : \n",
      "This is not the first time when technological advances have created a virtual riot in homes, school ..\n",
      "\n",
      "\n",
      "url : https://www.brookings.edu/blog/fixgov/2019/02/05/northams-racist-photo-and-the-conversation-about-ra ..\n",
      "title : Northam’s racist photo and the conversation about race we need to have ..\n",
      "date : Tuesday, February 5, 2019 ..\n",
      "author : Camille Busette ..\n",
      "content : \n",
      "Last week, it was revealed that the 1984 medical school yearbook page of Virginia Governor Ralph No ..\n",
      "\n",
      "\n",
      "url : https://www.brookings.edu/testimonies/testimony-on-texas-v-u-s-the-republican-lawsuit-and-its-impact ..\n",
      "title : Testimony on Texas v. U.S.: The Republican lawsuit and its impacts on Americans with pre-existing co ..\n",
      "date : Wednesday, February 6, 2019 ..\n",
      "content : \n",
      "\n",
      "Author\n",
      "\n",
      "\n",
      "\n",
      "\n",
      "\n",
      "\n",
      "Christen Linke Young\n",
      "Fellow - USC-Brookings Schaeffer Initiative for Health Policy\n",
      "\n",
      "\n",
      " ..\n",
      "author : Christen Linke Young ..\n",
      "\n",
      "\n",
      "url : https://www.brookings.edu/testimonies/preserving-an-open-internet-for-consumers-small-businesses-and ..\n",
      "title : Preserving an open internet for consumers, small businesses, and free speech ..\n",
      "date : Thursday, February 7, 2019 ..\n",
      "content : \n",
      "On Feb. 7, 2019, Brookings Visiting Fellow Tom Wheeler testified before the House of Representative ..\n",
      "author : Tom Wheeler ..\n",
      "\n",
      "\n",
      "url : https://www.brookings.edu/testimonies/united-states-international-trade-commission-fact-finding-inve ..\n",
      "title : United States International Trade Commission fact finding investigation ..\n",
      "date : Monday, November 19, 2018 ..\n",
      "content : \n",
      "The following written statement addresses the specific issue of the impact of the United States-Mex ..\n",
      "author : Joshua P. Meltzer ..\n",
      "\n",
      "\n",
      "url : https://www.brookings.edu/bpea-articles/symposium-monetary-policy-at-the-effective-lower-bound/ ..\n",
      "author : Kristin J. Forbes ..\n",
      "title : Symposium: Monetary policy at the effective lower bound ..\n",
      "date : Friday, September 14, 2018 ..\n",
      "content_url : https://www.brookings.edu/wp-content/uploads/2018/09/ES_20180910_Forbes_ELB.pdf ..\n",
      "content : \n",
      "Summary\n",
      "Economists refer to episodes of interest rates approaching zero as the effective lower boun ..\n",
      "\n",
      "\n",
      "url : https://www.brookings.edu/bpea-articles/accounting-for-macro-finance-trends-market-power-intangibles ..\n",
      "author : Emmanuel Farhi ..\n",
      "title : Accounting for macro-finance trends: Market power, intangibles, and risk premia ..\n",
      "date : Thursday, September 13, 2018 ..\n",
      "content_url : https://www.brookings.edu/wp-content/uploads/2018/09/BPEA_Fall2018_Accounting-for-Macro-Finance-Tren ..\n",
      "content : \n",
      "Abstract\n",
      "Real risk-free interest rates have trended down over the past 30 years. Puzzlingly in ligh ..\n",
      "\n",
      "\n",
      "url : https://www.brookings.edu/bpea-articles/should-the-fed-regularly-evaluate-its-monetary-policy-framew ..\n",
      "author : Jeffrey Fuhrer ..\n",
      "title : Should the Fed regularly evaluate its monetary policy framework? ..\n",
      "date : Thursday, September 13, 2018 ..\n",
      "content_url : https://www.brookings.edu/wp-content/uploads/2018/09/BPEA_Fall2018_Should-the-Fed-Regularly-Evlauate ..\n",
      "content : \n",
      "Abstract\n",
      "Would a more open and regular evaluation of the monetary policy framework improve policy i ..\n",
      "\n",
      "\n"
     ]
    }
   ],
   "source": [
    "from brookings_scraper import parse_page\n",
    "def pprint(json_object):\n",
    "    for k, v in json_object.items():\n",
    "        print('{} : {} ..'.format(k, str(v)[:100]))\n",
    "    print('\\n')\n",
    "\n",
    "SLEEP = 0.5\n",
    "\n",
    "   \n",
    "for url in research_urls[:3]:\n",
    "    rjson_object = parse_page(url)\n",
    "    pprint(rjson_object)\n",
    "\n",
    "for url in blog_urls[:3]:\n",
    "    bjson_object = parse_page(url)\n",
    "    pprint(bjson_object)\n",
    "    \n",
    "for url in tesimony_urls[:3]:\n",
    "    tjson_object = parse_page(url)\n",
    "    pprint(tjson_object)\n",
    "    \n",
    "for url in bpea_urls[:3]:\n",
    "    bpjson_object = parse_page(url)\n",
    "    pprint(bpjson_object)"
   ]
  },
  {
   "cell_type": "code",
   "execution_count": 4,
   "metadata": {},
   "outputs": [
    {
     "name": "stdout",
     "output_type": "stream",
     "text": [
      "[1 / 5] (Monday, January 28, 2019) Venezuelans must lead in building an off-ramp for Maduro\n",
      "[2 / 5] (Wednesday, February 6, 2019) Screen time for children: Good, bad, or it depends?\n",
      "[3 / 5] (Tuesday, February 5, 2019) Northam’s racist photo and the conversation about race we need to have\n",
      "[4 / 5] (Wednesday, February 6, 2019) Evidence for addressing the opioid epidemic: Rounding out the picture\n",
      "[5 / 5] (Thursday, February 7, 2019) Brookings experts’ Black History Month reading list\n"
     ]
    }
   ],
   "source": [
    "from brookings_scraper import yield_latest_blog\n",
    "\n",
    "begin_date = '2018-07-01'\n",
    "max_num = 5\n",
    "sleep = 1.0\n",
    "\n",
    "for i, json_obj in enumerate(yield_latest_blog(begin_date, max_num, sleep)):\n",
    "    title = json_obj['title']\n",
    "    time = json_obj['date']\n",
    "    print('[{} / {}] ({}) {}'.format(i+1, max_num, time, title))"
   ]
  },
  {
   "cell_type": "code",
   "execution_count": 5,
   "metadata": {},
   "outputs": [
    {
     "name": "stdout",
     "output_type": "stream",
     "text": [
      "[1 / 5] (Wednesday, February 6, 2019) Testimony on Texas v. U.S.: The Republican lawsuit and its impacts on Americans with pre-existing conditions\n",
      "[2 / 5] (Thursday, February 7, 2019) Preserving an open internet for consumers, small businesses, and free speech\n",
      "[3 / 5] (Monday, November 19, 2018) United States International Trade Commission fact finding investigation\n",
      "[4 / 5] (Wednesday, November 14, 2018) Developments in Somalia\n",
      "[5 / 5] (Wednesday, July 18, 2018) The future of money: digital currency\n"
     ]
    }
   ],
   "source": [
    "from brookings_scraper import yield_latest_testimony\n",
    "\n",
    "begin_date = '2018-07-01'\n",
    "max_num = 5\n",
    "sleep = 1.0\n",
    "\n",
    "for i, json_obj in enumerate(yield_latest_testimony(begin_date, max_num, sleep)):\n",
    "    title = json_obj['title']\n",
    "    time = json_obj['date']\n",
    "    print('[{} / {}] ({}) {}'.format(i+1, max_num, time, title))"
   ]
  },
  {
   "cell_type": "code",
   "execution_count": 6,
   "metadata": {},
   "outputs": [
    {
     "name": "stdout",
     "output_type": "stream",
     "text": [
      "[1 / 5] (Friday, September 14, 2018) Symposium: Monetary policy at the effective lower bound\n",
      "[2 / 5] (Thursday, September 13, 2018) Accounting for macro-finance trends: Market power, intangibles, and risk premia\n",
      "[3 / 5] (Thursday, September 13, 2018) Should the Fed regularly evaluate its monetary policy framework?\n",
      "[4 / 5] (Thursday, September 13, 2018) The cyclical sensitivity in estimates of potential output\n",
      "[5 / 5] (Thursday, September 13, 2018) The real effects of the financial crisis\n"
     ]
    }
   ],
   "source": [
    "from brookings_scraper import yield_latest_bpea\n",
    "\n",
    "begin_date = '2018-07-01'\n",
    "max_num = 5\n",
    "sleep = 1.0\n",
    "\n",
    "for i, json_obj in enumerate(yield_latest_bpea(begin_date, max_num, sleep)):\n",
    "    title = json_obj['title']\n",
    "    time = json_obj['date']\n",
    "    print('[{} / {}] ({}) {}'.format(i+1, max_num, time, title))"
   ]
  },
  {
   "cell_type": "code",
   "execution_count": 7,
   "metadata": {},
   "outputs": [
    {
     "name": "stdout",
     "output_type": "stream",
     "text": [
      "[1 / 5] (Thursday, January 31, 2019) Fact-based policy: How do state and local governments accomplish it?\n",
      "[2 / 5] (Thursday, January 31, 2019) How artificial intelligence affects financial consumers\n",
      "[3 / 5] (Thursday, January 31, 2019) Removing barriers to accessing high-productivity places\n",
      "[4 / 5] (Thursday, January 31, 2019) Local transportation policy and economic opportunity\n",
      "[5 / 5] (Wednesday, January 30, 2019) Education system alignment for 21st century skills\n"
     ]
    }
   ],
   "source": [
    "from brookings_scraper import yield_latest_research\n",
    "begin_date = '2018-07-01'\n",
    "max_num = 5\n",
    "sleep = 1.0\n",
    "\n",
    "for i, json_obj in enumerate(yield_latest_research(begin_date, max_num, sleep)):\n",
    "    title = json_obj['title']\n",
    "    time = json_obj['date']\n",
    "    print('[{} / {}] ({}) {}'.format(i+1, max_num, time, title))"
   ]
  }
 ],
 "metadata": {
  "kernelspec": {
   "display_name": "Python 3",
   "language": "python",
   "name": "python3"
  },
  "language_info": {
   "codemirror_mode": {
    "name": "ipython",
    "version": 3
   },
   "file_extension": ".py",
   "mimetype": "text/x-python",
   "name": "python",
   "nbconvert_exporter": "python",
   "pygments_lexer": "ipython3",
   "version": "3.7.1"
  },
  "varInspector": {
   "cols": {
    "lenName": 16,
    "lenType": 16,
    "lenVar": 40
   },
   "kernels_config": {
    "python": {
     "delete_cmd_postfix": "",
     "delete_cmd_prefix": "del ",
     "library": "var_list.py",
     "varRefreshCmd": "print(var_dic_list())"
    },
    "r": {
     "delete_cmd_postfix": ") ",
     "delete_cmd_prefix": "rm(",
     "library": "var_list.r",
     "varRefreshCmd": "cat(var_dic_list()) "
    }
   },
   "oldHeight": 122.545454,
   "position": {
    "height": "40px",
    "left": "1007.45px",
    "right": "20px",
    "top": "139px",
    "width": "250px"
   },
   "types_to_exclude": [
    "module",
    "function",
    "builtin_function_or_method",
    "instance",
    "_Feature"
   ],
   "varInspector_section_display": "none",
   "window_display": true
  }
 },
 "nbformat": 4,
 "nbformat_minor": 2
}
